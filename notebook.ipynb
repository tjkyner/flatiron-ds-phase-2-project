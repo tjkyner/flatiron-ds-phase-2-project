{
 "cells": [
  {
   "cell_type": "markdown",
   "metadata": {},
   "source": [
    "# King County Housing Data Project\n",
    "---\n",
    "Student name: T.J. Kyner \\\n",
    "Student pace: Full time \\\n",
    "Instructor name: Abhineet Kulkarni \\\n",
    "Cohort: 040521\n",
    "\n",
    "## Business Problem\n",
    "---\n",
    "\n",
    "## Imports & Settings\n",
    "---\n",
    "\n",
    "## Data Preprocessing\n",
    "---\n",
    "\n",
    "## Modeling\n",
    "---\n",
    "\n",
    "## Conclusion\n",
    "---\n",
    "### Results\n",
    "### Next Steps"
   ]
  }
 ],
 "metadata": {
  "kernelspec": {
   "display_name": "learn-env",
   "language": "python",
   "name": "learn-env"
  },
  "language_info": {
   "codemirror_mode": {
    "name": "ipython",
    "version": 3
   },
   "file_extension": ".py",
   "mimetype": "text/x-python",
   "name": "python",
   "nbconvert_exporter": "python",
   "pygments_lexer": "ipython3",
   "version": "3.8.5"
  }
 },
 "nbformat": 4,
 "nbformat_minor": 4
}
